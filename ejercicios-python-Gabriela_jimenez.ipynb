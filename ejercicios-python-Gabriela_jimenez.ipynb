{
 "cells": [
  {
   "cell_type": "markdown",
   "metadata": {},
   "source": [
    "#### Ejercicio 1\n",
    "\n",
    "Devuelve el número de vocales en una cadena dada. Consideraremos `a, e, i, o, u` como vocales. \n",
    "\n",
    "Por ejemplo: \n",
    "\n",
    "```python\n",
    "print(get_count(\"Hola Buenos Dias\")) # devuelve 7 \n",
    "print(get_count(\"Python Mola\")) # devuelve 3\n",
    "print(get_count(\"REPASANDO EJERCICIOS\")) # devuelve 9\n",
    "```"
   ]
  },
  {
   "cell_type": "code",
   "execution_count": null,
   "metadata": {},
   "outputs": [
    {
     "name": "stdout",
     "output_type": "stream",
     "text": [
      "Hay 7 vocales\n"
     ]
    }
   ],
   "source": [
    "cadena = \"Hola Buenos Dias\"\n",
    "\n",
    "if \"a\" in cadena or \"e\" in cadena or \"i\" in cadena or \"o\" in cadena or \"u\" in cadena:\n",
    "    suma_letras = cadena.count(\"a\") + cadena.count(\"e\") + cadena.count(\"i\") + cadena.count(\"o\") + cadena.count(\"u\")\n",
    "    print(f\"Hay {suma_letras} vocales\")\n",
    "\n",
    "else:\n",
    "    print(\"no hay vocales\")"
   ]
  },
  {
   "cell_type": "markdown",
   "metadata": {},
   "source": [
    "#### Ejercicio 2\n",
    "\n",
    "Eleva al cuadrado cada dígito de un número y unelos. Por ejemplo, si pasas el número 9119 a la función, obtendras 811181, porque \\(9^2\\) ￼ es 81 y ￼\\(1^2\\) es 1. (81-1-1-81). Otro ejemplo, un número de 765 debería devolver 493625 porque \\(7^2\\) ￼ es 49,  \\(6^2\\) ￼ es 36 y ￼\\(5^2\\)  es 25. (49-36-25)\n",
    "\n",
    "```python\n",
    "print(square_digits(123)) # devuelve 149\n",
    "print(square_digits(12345)) # devuelve 1491625\n",
    "print(square_digits(34)) # devuelve 916\n",
    "```\n"
   ]
  },
  {
   "cell_type": "code",
   "execution_count": null,
   "metadata": {},
   "outputs": [
    {
     "data": {
      "text/plain": [
       "'1491625'"
      ]
     },
     "execution_count": 54,
     "metadata": {},
     "output_type": "execute_result"
    }
   ],
   "source": [
    "def numero_cuadrados (numero):\n",
    "\n",
    "    numero_cadena = str(numero)\n",
    "    lista = []\n",
    "\n",
    "    for i in numero_cadena:\n",
    "\n",
    "        numero_cuadrado = int(i) ** 2\n",
    "        numero_cadena_bueno = str(numero_cuadrado)\n",
    "        lista.append(numero_cadena_bueno)\n",
    "    \n",
    "    lista_final = \"\".join(lista)\n",
    "    return lista_final\n",
    "    \n",
    "numero_cuadrados(12345)"
   ]
  },
  {
   "cell_type": "markdown",
   "metadata": {},
   "source": [
    "#### Ejercicio 3\n",
    "\n",
    "Escribe una función que reciba una cadena de texto compuesta por una o más palabras, y devuelva la misma cadena, pero con todas las palabras de cinco o más letras invertidas. \n",
    "\n",
    "```python\n",
    "print(spin_words(\"Hey fellow warriors\")) # Hey wollef sroirraw\n",
    "print(spin_words(\"This is a test\")) # This is a test\n",
    "print(spin_words(\"This is another test\")) # This is rehtona test\n",
    "```"
   ]
  },
  {
   "cell_type": "code",
   "execution_count": 29,
   "metadata": {},
   "outputs": [
    {
     "data": {
      "text/plain": [
       "'This is rehtona test'"
      ]
     },
     "execution_count": 29,
     "metadata": {},
     "output_type": "execute_result"
    }
   ],
   "source": [
    "def palabras_invertidas (frasecita):\n",
    "\n",
    "    lista_frasecita = frasecita.split(\" \")\n",
    "    frasecita_final = []\n",
    "    \n",
    "    for palabras in lista_frasecita:\n",
    "\n",
    "        if len(palabras) >= 5:\n",
    "\n",
    "            palabra_invertida = palabras[::-1]\n",
    "            frasecita_final.append(palabra_invertida)   \n",
    "\n",
    "        else:\n",
    "\n",
    "            frasecita_final.append(palabras)\n",
    "    \n",
    "    frase_final = \" \".join(frasecita_final)\n",
    "    return frase_final\n",
    "\n",
    "palabras_invertidas(\"This is another test\")\n"
   ]
  },
  {
   "cell_type": "markdown",
   "metadata": {},
   "source": [
    "#### Ejercicio 4\n",
    "\n",
    "Probablemente conozcas el sistema de “me gusta” de Facebook y otras plataformas. Las personas pueden dar “me gusta” a publicaciones, imágenes u otros elementos. Tienes que crear el texto que se debe mostrar junto a dicho elemento. Crea una función que reciba una lista con los nombres de las personas que dieron “me gusta” a un elemento. La función debe devolver el texto mostrado según los ejemplos:\n",
    "\n",
    "```python\n",
    "print(likes([\"Peter\"])) # devuelve \"Peter likes this\"\n",
    "print(likes([\"Jacob\", \"Alex\"] )) # devuelve \"Jacob and Alex like this\"\n",
    "print(likes([\"Max\", \"John\", \"Mark\"])) # devuelve \"Max, John and Mark like this\"\n",
    "print(likes([\"Max\", \"John\", \"Mark\", \"Max\"])) # devuelve \"Max, John and 2 others like this\"\n",
    "```"
   ]
  },
  {
   "cell_type": "markdown",
   "metadata": {},
   "source": [
    "**Pendiente de realizar**"
   ]
  },
  {
   "cell_type": "code",
   "execution_count": null,
   "metadata": {},
   "outputs": [],
   "source": []
  },
  {
   "cell_type": "markdown",
   "metadata": {},
   "source": [
    "#### Ejercicio 5\n",
    "\n",
    "Crea una función que tome una lista de enteros no negativos y cadenas de texto, y devuelva una nueva lista con las cadenas filtradas (es decir, eliminadas).\n",
    "\n",
    "```python\n",
    "print(filter_list([1, 2, 'a', 'b'])) # devuelve [1, 2]\n",
    "print(filter_list([1, 'a', 'b', 0, 15])) # devuelve [1, 0, 15]\n",
    "print(filter_list([1, 2, 'aasf', '1', '123', 123])) # devuelve [1, 2, 123]\n",
    "```"
   ]
  },
  {
   "cell_type": "code",
   "execution_count": null,
   "metadata": {},
   "outputs": [
    {
     "data": {
      "text/plain": [
       "[1, 2, 123]"
      ]
     },
     "execution_count": 48,
     "metadata": {},
     "output_type": "execute_result"
    }
   ],
   "source": [
    "def cadena_filtrada (lista):\n",
    "\n",
    "    lista_numericos = []\n",
    "    \n",
    "    for elemento in lista:\n",
    "\n",
    "        if type(elemento) is not str:\n",
    "            lista_numericos.append(elemento)\n",
    "    \n",
    "    return(lista_numericos)\n",
    "\n",
    "cadena_filtrada([1, 2, 'aasf', '1', '123', 123])\n"
   ]
  },
  {
   "cell_type": "markdown",
   "metadata": {},
   "source": [
    "#### Ejercicio 6\n",
    "\n",
    "Mueve la primera letra de cada palabra al final de la misma, luego agrega “ay” al final de la palabra. Deja los signos de puntuación sin cambios.\n",
    "\n",
    "```python\n",
    "print(pig_it('Pig latin is cool')) # devuelve \"igPay atinlay siay oolcay\"\n",
    "print(pig_it('This is my string')) # devuelve \"hisTay siay ymay tringsay\"\n",
    "```"
   ]
  },
  {
   "cell_type": "code",
   "execution_count": 43,
   "metadata": {},
   "outputs": [
    {
     "data": {
      "text/plain": [
       "'igPay atinlay siay oolcay'"
      ]
     },
     "execution_count": 43,
     "metadata": {},
     "output_type": "execute_result"
    }
   ],
   "source": [
    "def frase_ay (frase):\n",
    "\n",
    "    lista_frase = frase.split(\" \")\n",
    "    frase_final = []\n",
    "    \n",
    "    for palabra in lista_frase:\n",
    "        palabra_modificada = palabra + palabra[0] + \"ay\"\n",
    "        frase_final.append(palabra_modificada[1:])\n",
    "    \n",
    "    frase_finalisima = \" \".join(frase_final)\n",
    "    return frase_finalisima\n",
    "\n",
    "frase_ay(\"Pig latin is cool\")"
   ]
  },
  {
   "cell_type": "markdown",
   "metadata": {},
   "source": [
    "#### Ejercicio 7\n",
    "\n",
    "A Pete le gusta hornear pasteles. Tiene algunas recetas e ingredientes. Desafortunadamente, no es bueno con las matemáticas. ¿Puedes ayudarlo a averiguar cuántos pasteles puede hornear considerando sus recetas? Escribe una función que reciba la receta  y los ingredientes disponibles y devuelva el número máximo de pasteles que Pete puede hornear. Para simplificar, no hay unidades para las cantidades (por ejemplo, 1 libra de harina o 200 gramos de azúcar son simplemente 1 o 200). Los ingredientes que no están presentes en los objetos se pueden considerar como 0.\n",
    "\n",
    "```python\n",
    "recipe = {\"flour\": 500, \"sugar\": 200, \"eggs\": 1}\n",
    "available = {\"flour\": 1200, \"sugar\": 1200, \"eggs\": 5, \"milk\": 200}\n",
    "print(cakes(recipe, available)) # devuelve 2 bizcochos\n",
    "\n",
    "recipe = {\"apples\": 3, \"flour\": 300, \"sugar\": 150, \"milk\": 100, \"oil\": 100}\n",
    "available = {\"sugar\": 500, \"flour\": 2000, \"milk\": 2000}\n",
    "print(cakes(recipe, available)) # devuelve 0 bizcochos\n",
    "\n",
    "```"
   ]
  },
  {
   "cell_type": "markdown",
   "metadata": {},
   "source": [
    "**Pendiente de realizar**"
   ]
  },
  {
   "cell_type": "code",
   "execution_count": 1,
   "metadata": {},
   "outputs": [],
   "source": [
    "receta_brownie = {\"azucar\": 125, \"mantequilla\": 150, \"chocolate\": 1, \"almendra\": 125, \"huevos\": 4}\n",
    "#Ingredientes necesarios y cantidades para hacer un brownie\n",
    "disponibilidad_ingredientes = {\"azucar\": 125, \"mantequilla\": 150, \"chocolate\": 1, \"almendra\": 125, \"huevos\": 4}\n",
    "\n",
    "for ingrediente, cantidad in disponibilidad_ingredientes.items():\n",
    "    if ingrediente == \"azucar\" or ingrediente == \"almendra\":\n",
    "        if cantidad < 125:\n",
    "            print(f\"Hay menos de {cantidad}\")\n",
    "    elif ingrediente == \"mantequilla\":\n",
    "        if cantidad < 150:\n",
    "            print(f\"Hay menos de {cantidad}\")\n",
    "    if ingrediente == \"chocolate\":\n",
    "        if cantidad < 1:\n",
    "            print(f\"Hay menos de {cantidad}\")\n",
    "    if ingrediente == \"huevos\":\n",
    "        if cantidad < 4:\n",
    "            print(f\"Hay menos de {cantidad}\")\n",
    "    \n",
    "#necesito que me diga primero los ingredientes que tengo disponibles. Si no tengo disponibilidad en ninguno, que me devuelva no puede hacer ni un pastel\n",
    "# si lso ingredientes disponibles son igual a los ingredientes en la receta le indico que puedo realizar un brownie\n",
    "# si las cantidades son superiores, una función que me diga cuantos pdore hacer por cantidad\n",
    "\n",
    "\n"
   ]
  },
  {
   "cell_type": "markdown",
   "metadata": {},
   "source": [
    "#### Ejercicio 8\n",
    "\n",
    "Debes validar si una cadena de entrada del usuario es alfanumérica. La cadena debe cumplir con las siguientes condiciones para ser alfanumérica:\n",
    "\n",
    "•\tContener al menos un carácter (”” no es válido).\n",
    "\n",
    "•\tLos caracteres permitidos son letras latinas en mayúsculas/minúsculas y dígitos del 0 al 9.\n",
    "\n",
    "•\tNo debe contener espacios en blanco ni guiones bajos (_).\n",
    "\n",
    "```python\n",
    "print(alphanumeric(\"hello world_\")) # devuelve False\n",
    "print(alphanumeric(\"PassW0rd\")) # devuelve True\n",
    "print(alphanumeric(\"L0La\")) # devuelve True\n",
    "```"
   ]
  },
  {
   "cell_type": "code",
   "execution_count": 17,
   "metadata": {},
   "outputs": [
    {
     "name": "stdout",
     "output_type": "stream",
     "text": [
      "falso\n"
     ]
    }
   ],
   "source": [
    "def frase_alfanum (frase):\n",
    "\n",
    "    if frase == \"\":\n",
    "        print(\"no es válido\")\n",
    "\n",
    "    elif \" \" in frase or \"_\" in frase:\n",
    "        print(\"falso\")\n",
    "\n",
    "    else:\n",
    "        print(\"verdadero\")\n",
    "\n",
    "frase_alfanum(\"hola9_mellamogabriela\")"
   ]
  },
  {
   "cell_type": "markdown",
   "metadata": {},
   "source": [
    "## 9. `what_is_between()`\n",
    "Crea una lista con todos los números enteros entre dos valores dados, incluyendo ambos extremos.\n",
    "\n",
    "**Input:**\n",
    "- Dos números enteros, por ejemplo: `3` y `7`\n",
    "\n",
    "**Output esperado:**\n",
    "- Una lista de enteros entre los valores dados, por ejemplo: `[3, 4, 5, 6, 7]`\n"
   ]
  },
  {
   "cell_type": "code",
   "execution_count": null,
   "metadata": {},
   "outputs": [
    {
     "data": {
      "text/plain": [
       "[18, 19, 20, 21]"
      ]
     },
     "execution_count": 46,
     "metadata": {},
     "output_type": "execute_result"
    }
   ],
   "source": [
    "def what_is_between(a,b):\n",
    "\n",
    "    lista_vacia = []\n",
    "\n",
    "    for numero in range(a,b + 1):\n",
    "        resultado = numero\n",
    "        lista_vacia.append(resultado)\n",
    "        \n",
    "    return lista_vacia\n",
    "\n",
    "what_is_between(18,21)\n"
   ]
  },
  {
   "cell_type": "markdown",
   "metadata": {},
   "source": [
    "## 10. `es_mayus()`\n",
    "Dado un string, verifica si todas sus letras están en mayúsculas. Ignora los espacios para que no afecten el resultado.\n",
    "\n",
    "**Input:**\n",
    "- Un string, por ejemplo: `\"HOLA MUNDO\"`\n",
    "\n",
    "**Output esperado:**\n",
    "- `True` si todas las letras están en mayúsculas, `False` en caso contrario.\n"
   ]
  },
  {
   "cell_type": "code",
   "execution_count": 40,
   "metadata": {},
   "outputs": [
    {
     "data": {
      "text/plain": [
       "False"
      ]
     },
     "execution_count": 40,
     "metadata": {},
     "output_type": "execute_result"
    }
   ],
   "source": [
    "def es_mayus (frase_comprobar):\n",
    "\n",
    "    es_mayuscula = frase_comprobar.isupper()\n",
    "    return es_mayuscula\n",
    "\n",
    "es_mayus(\"HOLa MUNDO\")"
   ]
  },
  {
   "cell_type": "markdown",
   "metadata": {},
   "source": [
    "## 11. `añadir_apellido()`\n",
    "Dado un diccionario que representa a una persona con claves como \"nombre\" y \"edad\", añade una nueva clave llamada \"apellido\" con un valor proporcionado.\n",
    "\n",
    "**Input:**\n",
    "- Un diccionario, por ejemplo: `{\"nombre\": \"Juan\", \"edad\": 30}`\n",
    "- Un string con el apellido, por ejemplo: `\"García\"`\n",
    "\n",
    "**Output esperado:**\n",
    "- El diccionario actualizado, por ejemplo: `{\"nombre\": \"Juan\", \"edad\": 30, \"apellido\": \"García\"}`"
   ]
  },
  {
   "cell_type": "code",
   "execution_count": null,
   "metadata": {},
   "outputs": [
    {
     "data": {
      "text/plain": [
       "{'nombre': 'Laura', 'edad': 10, 'apellido': 'Gómez'}"
      ]
     },
     "execution_count": 51,
     "metadata": {},
     "output_type": "execute_result"
    }
   ],
   "source": [
    "def añadir_apellido (diccionario, apellido):\n",
    "\n",
    "    nuevos_elementos = {\"apellido\": apellido}\n",
    "    diccionario.update(nuevos_elementos)\n",
    "    \n",
    "    return diccionario\n",
    "\n",
    "diccionario_nombre_edad = {\"nombre\": \"Laura\", \"edad\": 10}\n",
    "añadir_apellido(diccionario_nombre_edad, \"Gómez\")"
   ]
  },
  {
   "cell_type": "markdown",
   "metadata": {},
   "source": [
    "## 12. `corregir_nombre_socio()`\n",
    "Dado un diccionario con un nombre incorrecto (por ejemplo, letras mezcladas o en minúsculas), revisa y corrige cada letra del nombre basándote en una versión de referencia correcta. La función debería trabajar para un solo diccionario y luego reutilizarse para corregir una lista de diccionarios de nombres.\n",
    "\n",
    "**Input:**\n",
    "- Un diccionario, por ejemplo: `{\"nombre\": \"jUn\", \"edad\": 40}`\n",
    "- Un string con el nombre correcto, por ejemplo: `\"Juan\"`\n",
    "\n",
    "**Output esperado:**\n",
    "- El diccionario con el nombre corregido, por ejemplo: `{\"nombre\": \"Juan\", \"edad\": 40}`\n"
   ]
  },
  {
   "cell_type": "code",
   "execution_count": 16,
   "metadata": {},
   "outputs": [
    {
     "name": "stdout",
     "output_type": "stream",
     "text": [
      "El nombre del socio es Juan\n"
     ]
    },
    {
     "data": {
      "text/plain": [
       "{'nombre': 'Juan', 'edad': 40}"
      ]
     },
     "execution_count": 16,
     "metadata": {},
     "output_type": "execute_result"
    }
   ],
   "source": [
    "def corregir_nombre_socio (diccionario_nombre_socio):\n",
    "\n",
    "    valor_nombre = diccionario_nombre_socio[\"nombre\"]\n",
    "    print(f\"El nombre del socio es {valor_nombre}\")\n",
    "    nombre_incorrecto = input(\"¿Es el nombre incorrecto: ?\")\n",
    "    \n",
    "    if nombre_incorrecto == \"si\":\n",
    "\n",
    "        nombre_correcto = input(\"Introduce el nombre correcto, por favor: \")\n",
    "        diccionario_nombre_socio[\"nombre\"] = nombre_correcto\n",
    "        \n",
    "    elif nombre_incorrecto == \"no\":\n",
    "        ...\n",
    "    \n",
    "    return diccionario_nombre_socio\n",
    "\n",
    "corregir_nombre_socio({\"nombre\": \"Juan\", \"edad\": 40})\n",
    "\n"
   ]
  },
  {
   "cell_type": "markdown",
   "metadata": {},
   "source": [
    "## 13. `crear_diccionario_notas()`\n",
    "Crea un diccionario que almacene nombres de estudiantes como claves y sus notas como valores. Puedes usar `zip()` para combinar dos listas: una de nombres y otra de notas.\n",
    "\n",
    "**Input:**\n",
    "- Dos listas, una con nombres de estudiantes (por ejemplo: `[\"Ana\", \"Luis\", \"Maria\"]`) y otra con sus notas (por ejemplo: `[85, 90, 78]`).\n",
    "\n",
    "**Output esperado:**\n",
    "- Un diccionario donde cada nombre está asociado a su nota, por ejemplo: `{\"Ana\": 85, \"Luis\": 90, \"Maria\": 78}`"
   ]
  },
  {
   "cell_type": "code",
   "execution_count": null,
   "metadata": {},
   "outputs": [
    {
     "data": {
      "text/plain": [
       "{'Ana': 85, 'Luis': 90, 'Maria': 78}"
      ]
     },
     "execution_count": 18,
     "metadata": {},
     "output_type": "execute_result"
    }
   ],
   "source": [
    "def crear_diccionario_notas (nombres_estudiantes, notas_estudiantes):\n",
    "    \n",
    "    diccionario_notas_nombres_estudiantes = dict(zip(nombres_estudiantes, notas_estudiantes))\n",
    "    return diccionario_notas_nombres_estudiantes\n",
    "\n",
    "\n",
    "\n",
    "lista_nombres_estudiantes = [\"Ana\", \"Luis\", \"Maria\"]\n",
    "lista_notas_estudiantes = [85, 90, 78]\n",
    "crear_diccionario_notas(lista_nombres_estudiantes, lista_notas_estudiantes)"
   ]
  },
  {
   "cell_type": "markdown",
   "metadata": {},
   "source": [
    "## 14. `crear_diccionario_notas_tupla()`\n",
    "Similar al ejercicio anterior, pero aquí la información de los estudiantes y sus notas viene en una lista de tuplas. Cada tupla contiene el nombre y la nota de un estudiante.\n",
    "\n",
    "**Input:**\n",
    "- Una lista de tuplas, por ejemplo: `[(\"Ana\", 85), (\"Luis\", 90), (\"Maria\", 78)]`\n",
    "\n",
    "**Output esperado:**\n",
    "- Un diccionario donde cada nombre está asociado a su nota, por ejemplo: `{\"Ana\": 85, \"Luis\": 90, \"Maria\": 78}`"
   ]
  },
  {
   "cell_type": "code",
   "execution_count": 21,
   "metadata": {},
   "outputs": [
    {
     "data": {
      "text/plain": [
       "{'Ana': 85, 'Luis': 90, 'Maria': 78}"
      ]
     },
     "execution_count": 21,
     "metadata": {},
     "output_type": "execute_result"
    }
   ],
   "source": [
    "def crear_diccionario_notas_tupla (lista_tuplas_estudiantes):\n",
    "\n",
    "    nombres, notas = list(zip(*lista_tuplas_estudiantes))\n",
    "    diccionario_notas_nombres_estudiantes = dict(zip(nombres, notas))\n",
    "    return diccionario_notas_nombres_estudiantes\n",
    "\n",
    "lista_tuplas = [(\"Ana\", 85), (\"Luis\", 90), (\"Maria\", 78)]\n",
    "crear_diccionario_notas_tupla(lista_tuplas)"
   ]
  }
 ],
 "metadata": {
  "kernelspec": {
   "display_name": "Python 3",
   "language": "python",
   "name": "python3"
  },
  "language_info": {
   "codemirror_mode": {
    "name": "ipython",
    "version": 3
   },
   "file_extension": ".py",
   "mimetype": "text/x-python",
   "name": "python",
   "nbconvert_exporter": "python",
   "pygments_lexer": "ipython3",
   "version": "3.12.4"
  }
 },
 "nbformat": 4,
 "nbformat_minor": 2
}
